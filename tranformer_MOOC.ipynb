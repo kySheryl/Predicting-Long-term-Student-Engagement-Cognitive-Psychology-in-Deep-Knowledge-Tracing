{
  "nbformat": 4,
  "nbformat_minor": 0,
  "metadata": {
    "colab": {
      "name": "final_fixlength_transformer nsession_prediction",
      "provenance": [],
      "collapsed_sections": [],
      "toc_visible": true
    },
    "kernelspec": {
      "name": "python3",
      "display_name": "Python 3"
    },
    "accelerator": "GPU"
  },
  "cells": [
    {
      "cell_type": "markdown",
      "metadata": {
        "id": "CC1P1x1BLLZs"
      },
      "source": [
        "This note book train a transformer model to predict the number of sessions a student will spend in the (n+1)_th modules based on his/her performance in the previous n modules."
      ]
    },
    {
      "cell_type": "markdown",
      "metadata": {
        "id": "3W-R8Q4kRHBl"
      },
      "source": [
        "# Prepare Dataset"
      ]
    },
    {
      "cell_type": "code",
      "metadata": {
        "id": "Dzld7w96E6dY"
      },
      "source": [
        "!git clone https://github.com/pcarvalh/Self-regulated-spacing-online-class.git"
      ],
      "execution_count": null,
      "outputs": []
    },
    {
      "cell_type": "code",
      "metadata": {
        "id": "kmCU5zTyKj7b"
      },
      "source": [
        "import pandas as pd\r\n",
        "import numpy as np\r\n"
      ],
      "execution_count": null,
      "outputs": []
    },
    {
      "cell_type": "code",
      "metadata": {
        "id": "5gs9yw6eOLMa"
      },
      "source": [
        "df = pd.read_csv('/content/Self-regulated-spacing-online-class/processed data/SummarySpacingTime.csv')  "
      ],
      "execution_count": null,
      "outputs": []
    },
    {
      "cell_type": "code",
      "metadata": {
        "id": "FiGIdoRQCoD3",
        "colab": {
          "base_uri": "https://localhost:8080/",
          "height": 590
        },
        "outputId": "0bbfdee1-3d93-4069-a408-101fcc87ae8b"
      },
      "source": [
        "df"
      ],
      "execution_count": null,
      "outputs": [
        {
          "output_type": "execute_result",
          "data": {
            "text/html": [
              "<div>\n",
              "<style scoped>\n",
              "    .dataframe tbody tr th:only-of-type {\n",
              "        vertical-align: middle;\n",
              "    }\n",
              "\n",
              "    .dataframe tbody tr th {\n",
              "        vertical-align: top;\n",
              "    }\n",
              "\n",
              "    .dataframe thead th {\n",
              "        text-align: right;\n",
              "    }\n",
              "</style>\n",
              "<table border=\"1\" class=\"dataframe\">\n",
              "  <thead>\n",
              "    <tr style=\"text-align: right;\">\n",
              "      <th></th>\n",
              "      <th>ds_anon_user_id</th>\n",
              "      <th>module</th>\n",
              "      <th>meantimeToQuiz</th>\n",
              "      <th>nsessions</th>\n",
              "      <th>ndays</th>\n",
              "      <th>npages</th>\n",
              "      <th>nactivities</th>\n",
              "      <th>timeInModule</th>\n",
              "      <th>endToQuiz</th>\n",
              "      <th>meanSessionDiff</th>\n",
              "      <th>quizGrade</th>\n",
              "      <th>pretestGrade</th>\n",
              "      <th>examGrade</th>\n",
              "      <th>Nwords</th>\n",
              "      <th>Nactivities</th>\n",
              "      <th>Npages</th>\n",
              "      <th>crammers</th>\n",
              "    </tr>\n",
              "  </thead>\n",
              "  <tbody>\n",
              "    <tr>\n",
              "      <th>0</th>\n",
              "      <td>Stu_00ea8f20a0942ae1385989b901bec86f</td>\n",
              "      <td>1</td>\n",
              "      <td>969.783773</td>\n",
              "      <td>4</td>\n",
              "      <td>3</td>\n",
              "      <td>27</td>\n",
              "      <td>70</td>\n",
              "      <td>7815.200000</td>\n",
              "      <td>1.833333</td>\n",
              "      <td>155008.333333</td>\n",
              "      <td>10</td>\n",
              "      <td>10.0</td>\n",
              "      <td>27</td>\n",
              "      <td>18754</td>\n",
              "      <td>79</td>\n",
              "      <td>27</td>\n",
              "      <td>Non-Crammer</td>\n",
              "    </tr>\n",
              "    <tr>\n",
              "      <th>1</th>\n",
              "      <td>Stu_00ea8f20a0942ae1385989b901bec86f</td>\n",
              "      <td>2</td>\n",
              "      <td>419.983333</td>\n",
              "      <td>5</td>\n",
              "      <td>2</td>\n",
              "      <td>18</td>\n",
              "      <td>69</td>\n",
              "      <td>1089.483333</td>\n",
              "      <td>60.016667</td>\n",
              "      <td>57671.333333</td>\n",
              "      <td>9</td>\n",
              "      <td>10.0</td>\n",
              "      <td>27</td>\n",
              "      <td>9546</td>\n",
              "      <td>74</td>\n",
              "      <td>25</td>\n",
              "      <td>Non-Crammer</td>\n",
              "    </tr>\n",
              "    <tr>\n",
              "      <th>2</th>\n",
              "      <td>Stu_00ea8f20a0942ae1385989b901bec86f</td>\n",
              "      <td>3</td>\n",
              "      <td>2429.151982</td>\n",
              "      <td>4</td>\n",
              "      <td>3</td>\n",
              "      <td>39</td>\n",
              "      <td>73</td>\n",
              "      <td>4541.850000</td>\n",
              "      <td>40.700000</td>\n",
              "      <td>44065.333333</td>\n",
              "      <td>10</td>\n",
              "      <td>10.0</td>\n",
              "      <td>27</td>\n",
              "      <td>12785</td>\n",
              "      <td>74</td>\n",
              "      <td>26</td>\n",
              "      <td>Non-Crammer</td>\n",
              "    </tr>\n",
              "    <tr>\n",
              "      <th>3</th>\n",
              "      <td>Stu_00ea8f20a0942ae1385989b901bec86f</td>\n",
              "      <td>4</td>\n",
              "      <td>896.453084</td>\n",
              "      <td>2</td>\n",
              "      <td>2</td>\n",
              "      <td>12</td>\n",
              "      <td>51</td>\n",
              "      <td>1499.650000</td>\n",
              "      <td>7.466667</td>\n",
              "      <td>428409.000000</td>\n",
              "      <td>9</td>\n",
              "      <td>10.0</td>\n",
              "      <td>27</td>\n",
              "      <td>9638</td>\n",
              "      <td>63</td>\n",
              "      <td>3</td>\n",
              "      <td>Non-Crammer</td>\n",
              "    </tr>\n",
              "    <tr>\n",
              "      <th>4</th>\n",
              "      <td>Stu_00ea8f20a0942ae1385989b901bec86f</td>\n",
              "      <td>5</td>\n",
              "      <td>1090.381925</td>\n",
              "      <td>4</td>\n",
              "      <td>3</td>\n",
              "      <td>20</td>\n",
              "      <td>29</td>\n",
              "      <td>2156.000000</td>\n",
              "      <td>18.366667</td>\n",
              "      <td>251894.200000</td>\n",
              "      <td>10</td>\n",
              "      <td>10.0</td>\n",
              "      <td>27</td>\n",
              "      <td>14163</td>\n",
              "      <td>29</td>\n",
              "      <td>18</td>\n",
              "      <td>Non-Crammer</td>\n",
              "    </tr>\n",
              "    <tr>\n",
              "      <th>...</th>\n",
              "      <td>...</td>\n",
              "      <td>...</td>\n",
              "      <td>...</td>\n",
              "      <td>...</td>\n",
              "      <td>...</td>\n",
              "      <td>...</td>\n",
              "      <td>...</td>\n",
              "      <td>...</td>\n",
              "      <td>...</td>\n",
              "      <td>...</td>\n",
              "      <td>...</td>\n",
              "      <td>...</td>\n",
              "      <td>...</td>\n",
              "      <td>...</td>\n",
              "      <td>...</td>\n",
              "      <td>...</td>\n",
              "      <td>...</td>\n",
              "    </tr>\n",
              "    <tr>\n",
              "      <th>6787</th>\n",
              "      <td>Stu_ff9a310ccbfeaadac871b45f8ded4f81</td>\n",
              "      <td>6</td>\n",
              "      <td>233.412032</td>\n",
              "      <td>2</td>\n",
              "      <td>2</td>\n",
              "      <td>19</td>\n",
              "      <td>67</td>\n",
              "      <td>1438.450000</td>\n",
              "      <td>7.283333</td>\n",
              "      <td>37608.000000</td>\n",
              "      <td>9</td>\n",
              "      <td>8.0</td>\n",
              "      <td>22</td>\n",
              "      <td>17373</td>\n",
              "      <td>80</td>\n",
              "      <td>20</td>\n",
              "      <td>Non-Crammer</td>\n",
              "    </tr>\n",
              "    <tr>\n",
              "      <th>6788</th>\n",
              "      <td>Stu_ff9a310ccbfeaadac871b45f8ded4f81</td>\n",
              "      <td>7</td>\n",
              "      <td>352.605721</td>\n",
              "      <td>3</td>\n",
              "      <td>2</td>\n",
              "      <td>34</td>\n",
              "      <td>74</td>\n",
              "      <td>3520.166667</td>\n",
              "      <td>8.566667</td>\n",
              "      <td>156778.666667</td>\n",
              "      <td>8</td>\n",
              "      <td>8.0</td>\n",
              "      <td>22</td>\n",
              "      <td>15293</td>\n",
              "      <td>74</td>\n",
              "      <td>10</td>\n",
              "      <td>Non-Crammer</td>\n",
              "    </tr>\n",
              "    <tr>\n",
              "      <th>6789</th>\n",
              "      <td>Stu_ff9a310ccbfeaadac871b45f8ded4f81</td>\n",
              "      <td>8</td>\n",
              "      <td>431.174848</td>\n",
              "      <td>4</td>\n",
              "      <td>3</td>\n",
              "      <td>20</td>\n",
              "      <td>39</td>\n",
              "      <td>2095.733333</td>\n",
              "      <td>5.000000</td>\n",
              "      <td>151080.833333</td>\n",
              "      <td>9</td>\n",
              "      <td>8.0</td>\n",
              "      <td>22</td>\n",
              "      <td>11582</td>\n",
              "      <td>39</td>\n",
              "      <td>10</td>\n",
              "      <td>Non-Crammer</td>\n",
              "    </tr>\n",
              "    <tr>\n",
              "      <th>6790</th>\n",
              "      <td>Stu_ff9a310ccbfeaadac871b45f8ded4f81</td>\n",
              "      <td>9</td>\n",
              "      <td>772.821111</td>\n",
              "      <td>6</td>\n",
              "      <td>3</td>\n",
              "      <td>23</td>\n",
              "      <td>36</td>\n",
              "      <td>6454.050000</td>\n",
              "      <td>6.666667</td>\n",
              "      <td>185211.750000</td>\n",
              "      <td>8</td>\n",
              "      <td>8.0</td>\n",
              "      <td>22</td>\n",
              "      <td>12430</td>\n",
              "      <td>37</td>\n",
              "      <td>14</td>\n",
              "      <td>Non-Crammer</td>\n",
              "    </tr>\n",
              "    <tr>\n",
              "      <th>6791</th>\n",
              "      <td>Stu_ff9a310ccbfeaadac871b45f8ded4f81</td>\n",
              "      <td>11</td>\n",
              "      <td>1101.526190</td>\n",
              "      <td>3</td>\n",
              "      <td>2</td>\n",
              "      <td>5</td>\n",
              "      <td>9</td>\n",
              "      <td>1489.916667</td>\n",
              "      <td>121.833333</td>\n",
              "      <td>29868.333333</td>\n",
              "      <td>9</td>\n",
              "      <td>8.0</td>\n",
              "      <td>22</td>\n",
              "      <td>3043</td>\n",
              "      <td>9</td>\n",
              "      <td>2</td>\n",
              "      <td>Non-Crammer</td>\n",
              "    </tr>\n",
              "  </tbody>\n",
              "</table>\n",
              "<p>6792 rows × 17 columns</p>\n",
              "</div>"
            ],
            "text/plain": [
              "                           ds_anon_user_id  module  ...  Npages     crammers\n",
              "0     Stu_00ea8f20a0942ae1385989b901bec86f       1  ...      27  Non-Crammer\n",
              "1     Stu_00ea8f20a0942ae1385989b901bec86f       2  ...      25  Non-Crammer\n",
              "2     Stu_00ea8f20a0942ae1385989b901bec86f       3  ...      26  Non-Crammer\n",
              "3     Stu_00ea8f20a0942ae1385989b901bec86f       4  ...       3  Non-Crammer\n",
              "4     Stu_00ea8f20a0942ae1385989b901bec86f       5  ...      18  Non-Crammer\n",
              "...                                    ...     ...  ...     ...          ...\n",
              "6787  Stu_ff9a310ccbfeaadac871b45f8ded4f81       6  ...      20  Non-Crammer\n",
              "6788  Stu_ff9a310ccbfeaadac871b45f8ded4f81       7  ...      10  Non-Crammer\n",
              "6789  Stu_ff9a310ccbfeaadac871b45f8ded4f81       8  ...      10  Non-Crammer\n",
              "6790  Stu_ff9a310ccbfeaadac871b45f8ded4f81       9  ...      14  Non-Crammer\n",
              "6791  Stu_ff9a310ccbfeaadac871b45f8ded4f81      11  ...       2  Non-Crammer\n",
              "\n",
              "[6792 rows x 17 columns]"
            ]
          },
          "metadata": {
            "tags": []
          },
          "execution_count": 132
        }
      ]
    },
    {
      "cell_type": "code",
      "metadata": {
        "id": "K-SUdvSxLOoB"
      },
      "source": [
        "df['crammer'] = np.where(df['crammers']=='Non-Crammer', 0, 1)"
      ],
      "execution_count": null,
      "outputs": []
    },
    {
      "cell_type": "code",
      "metadata": {
        "id": "20Fx5upeOljG"
      },
      "source": [
        "df = df.drop(columns=['examGrade', 'crammers'])"
      ],
      "execution_count": null,
      "outputs": []
    },
    {
      "cell_type": "code",
      "metadata": {
        "id": "iLnkkvXBPSeY"
      },
      "source": [
        "df = df.fillna(value = {'pretestGrade':df['pretestGrade'].mean(), \"meanSessionDiff\":df[\"meanSessionDiff\"].mean()})"
      ],
      "execution_count": null,
      "outputs": []
    },
    {
      "cell_type": "code",
      "metadata": {
        "id": "VT9IUQp9GSHi"
      },
      "source": [
        "MEAN_ALL = df.mean()\r\n",
        "STD_ALL = df.std()\r\n",
        "for col in ['meantimeToQuiz', 'npages','nactivities','timeInModule',\r\n",
        "            'endToQuiz','meanSessionDiff', 'pretestGrade',\r\n",
        "            'Nwords','Nactivities','Npages','ndays','quizGrade']:\r\n",
        "  df[col] = (df[col] - MEAN_ALL[col]).div(STD_ALL[col])"
      ],
      "execution_count": null,
      "outputs": []
    },
    {
      "cell_type": "code",
      "metadata": {
        "id": "gZhi4RzZGVCD"
      },
      "source": [
        "\r\n",
        "df['nsessions'] = np.log1p(df['nsessions'])"
      ],
      "execution_count": null,
      "outputs": []
    },
    {
      "cell_type": "code",
      "metadata": {
        "colab": {
          "base_uri": "https://localhost:8080/"
        },
        "id": "Mnbk9Syosm2C",
        "outputId": "1966c6c3-0e86-4cf4-fdc8-740cc1b95ed6"
      },
      "source": [
        "df.info()"
      ],
      "execution_count": null,
      "outputs": [
        {
          "output_type": "stream",
          "text": [
            "<class 'pandas.core.frame.DataFrame'>\n",
            "RangeIndex: 6792 entries, 0 to 6791\n",
            "Data columns (total 16 columns):\n",
            " #   Column           Non-Null Count  Dtype  \n",
            "---  ------           --------------  -----  \n",
            " 0   ds_anon_user_id  6792 non-null   object \n",
            " 1   module           6792 non-null   int64  \n",
            " 2   meantimeToQuiz   6792 non-null   float64\n",
            " 3   nsessions        6792 non-null   float64\n",
            " 4   ndays            6792 non-null   float64\n",
            " 5   npages           6792 non-null   float64\n",
            " 6   nactivities      6792 non-null   float64\n",
            " 7   timeInModule     6792 non-null   float64\n",
            " 8   endToQuiz        6792 non-null   float64\n",
            " 9   meanSessionDiff  6792 non-null   float64\n",
            " 10  quizGrade        6792 non-null   float64\n",
            " 11  pretestGrade     6792 non-null   float64\n",
            " 12  Nwords           6792 non-null   float64\n",
            " 13  Nactivities      6792 non-null   float64\n",
            " 14  Npages           6792 non-null   float64\n",
            " 15  crammer          6792 non-null   int64  \n",
            "dtypes: float64(13), int64(2), object(1)\n",
            "memory usage: 849.1+ KB\n"
          ],
          "name": "stdout"
        }
      ]
    },
    {
      "cell_type": "code",
      "metadata": {
        "colab": {
          "base_uri": "https://localhost:8080/",
          "height": 363
        },
        "id": "rB2l40EjhAUr",
        "outputId": "fad8ebe0-4804-435d-b84e-de95b87b5e2d"
      },
      "source": [
        "df.head(10)\r\n"
      ],
      "execution_count": null,
      "outputs": [
        {
          "output_type": "execute_result",
          "data": {
            "text/html": [
              "<div>\n",
              "<style scoped>\n",
              "    .dataframe tbody tr th:only-of-type {\n",
              "        vertical-align: middle;\n",
              "    }\n",
              "\n",
              "    .dataframe tbody tr th {\n",
              "        vertical-align: top;\n",
              "    }\n",
              "\n",
              "    .dataframe thead th {\n",
              "        text-align: right;\n",
              "    }\n",
              "</style>\n",
              "<table border=\"1\" class=\"dataframe\">\n",
              "  <thead>\n",
              "    <tr style=\"text-align: right;\">\n",
              "      <th></th>\n",
              "      <th>ds_anon_user_id</th>\n",
              "      <th>module</th>\n",
              "      <th>meantimeToQuiz</th>\n",
              "      <th>nsessions</th>\n",
              "      <th>ndays</th>\n",
              "      <th>npages</th>\n",
              "      <th>nactivities</th>\n",
              "      <th>timeInModule</th>\n",
              "      <th>endToQuiz</th>\n",
              "      <th>meanSessionDiff</th>\n",
              "      <th>quizGrade</th>\n",
              "      <th>pretestGrade</th>\n",
              "      <th>Nwords</th>\n",
              "      <th>Nactivities</th>\n",
              "      <th>Npages</th>\n",
              "      <th>crammer</th>\n",
              "    </tr>\n",
              "  </thead>\n",
              "  <tbody>\n",
              "    <tr>\n",
              "      <th>0</th>\n",
              "      <td>Stu_00ea8f20a0942ae1385989b901bec86f</td>\n",
              "      <td>1</td>\n",
              "      <td>-0.333594</td>\n",
              "      <td>1.609438</td>\n",
              "      <td>0.02919</td>\n",
              "      <td>0.053546</td>\n",
              "      <td>1.037562</td>\n",
              "      <td>0.846007</td>\n",
              "      <td>-0.312039</td>\n",
              "      <td>-0.103592</td>\n",
              "      <td>0.931043</td>\n",
              "      <td>-0.265992</td>\n",
              "      <td>1.470412</td>\n",
              "      <td>0.996848</td>\n",
              "      <td>1.319891</td>\n",
              "      <td>0</td>\n",
              "    </tr>\n",
              "    <tr>\n",
              "      <th>1</th>\n",
              "      <td>Stu_00ea8f20a0942ae1385989b901bec86f</td>\n",
              "      <td>2</td>\n",
              "      <td>-0.398759</td>\n",
              "      <td>1.791759</td>\n",
              "      <td>-0.52153</td>\n",
              "      <td>-0.352252</td>\n",
              "      <td>1.001502</td>\n",
              "      <td>-0.647556</td>\n",
              "      <td>-0.305420</td>\n",
              "      <td>-0.484132</td>\n",
              "      <td>0.217475</td>\n",
              "      <td>-0.265992</td>\n",
              "      <td>-0.793981</td>\n",
              "      <td>0.775515</td>\n",
              "      <td>1.080312</td>\n",
              "      <td>0</td>\n",
              "    </tr>\n",
              "    <tr>\n",
              "      <th>2</th>\n",
              "      <td>Stu_00ea8f20a0942ae1385989b901bec86f</td>\n",
              "      <td>3</td>\n",
              "      <td>-0.160620</td>\n",
              "      <td>1.609438</td>\n",
              "      <td>0.02919</td>\n",
              "      <td>0.594611</td>\n",
              "      <td>1.145741</td>\n",
              "      <td>0.119102</td>\n",
              "      <td>-0.307617</td>\n",
              "      <td>-0.537325</td>\n",
              "      <td>0.931043</td>\n",
              "      <td>-0.265992</td>\n",
              "      <td>0.002540</td>\n",
              "      <td>0.775515</td>\n",
              "      <td>1.200101</td>\n",
              "      <td>0</td>\n",
              "    </tr>\n",
              "    <tr>\n",
              "      <th>3</th>\n",
              "      <td>Stu_00ea8f20a0942ae1385989b901bec86f</td>\n",
              "      <td>4</td>\n",
              "      <td>-0.342285</td>\n",
              "      <td>1.098612</td>\n",
              "      <td>-0.52153</td>\n",
              "      <td>-0.622785</td>\n",
              "      <td>0.352427</td>\n",
              "      <td>-0.556471</td>\n",
              "      <td>-0.311398</td>\n",
              "      <td>0.965271</td>\n",
              "      <td>0.217475</td>\n",
              "      <td>-0.265992</td>\n",
              "      <td>-0.771357</td>\n",
              "      <td>0.288581</td>\n",
              "      <td>-1.555061</td>\n",
              "      <td>0</td>\n",
              "    </tr>\n",
              "    <tr>\n",
              "      <th>4</th>\n",
              "      <td>Stu_00ea8f20a0942ae1385989b901bec86f</td>\n",
              "      <td>5</td>\n",
              "      <td>-0.319299</td>\n",
              "      <td>1.609438</td>\n",
              "      <td>0.02919</td>\n",
              "      <td>-0.262075</td>\n",
              "      <td>-0.440888</td>\n",
              "      <td>-0.410718</td>\n",
              "      <td>-0.310158</td>\n",
              "      <td>0.275184</td>\n",
              "      <td>0.931043</td>\n",
              "      <td>-0.265992</td>\n",
              "      <td>0.341412</td>\n",
              "      <td>-1.216487</td>\n",
              "      <td>0.241784</td>\n",
              "      <td>0</td>\n",
              "    </tr>\n",
              "    <tr>\n",
              "      <th>5</th>\n",
              "      <td>Stu_00ea8f20a0942ae1385989b901bec86f</td>\n",
              "      <td>6</td>\n",
              "      <td>-0.293376</td>\n",
              "      <td>1.386294</td>\n",
              "      <td>-0.52153</td>\n",
              "      <td>-0.307164</td>\n",
              "      <td>1.073622</td>\n",
              "      <td>-0.560050</td>\n",
              "      <td>-0.244449</td>\n",
              "      <td>-0.597795</td>\n",
              "      <td>0.217475</td>\n",
              "      <td>-0.265992</td>\n",
              "      <td>1.130802</td>\n",
              "      <td>1.041115</td>\n",
              "      <td>0.481363</td>\n",
              "      <td>0</td>\n",
              "    </tr>\n",
              "    <tr>\n",
              "      <th>6</th>\n",
              "      <td>Stu_00ea8f20a0942ae1385989b901bec86f</td>\n",
              "      <td>7</td>\n",
              "      <td>-0.376338</td>\n",
              "      <td>1.386294</td>\n",
              "      <td>-0.52153</td>\n",
              "      <td>0.053546</td>\n",
              "      <td>0.676964</td>\n",
              "      <td>-0.597114</td>\n",
              "      <td>-0.311106</td>\n",
              "      <td>0.847036</td>\n",
              "      <td>0.217475</td>\n",
              "      <td>-0.265992</td>\n",
              "      <td>0.619297</td>\n",
              "      <td>0.775515</td>\n",
              "      <td>-0.716533</td>\n",
              "      <td>0</td>\n",
              "    </tr>\n",
              "    <tr>\n",
              "      <th>7</th>\n",
              "      <td>Stu_00ea8f20a0942ae1385989b901bec86f</td>\n",
              "      <td>8</td>\n",
              "      <td>-0.308716</td>\n",
              "      <td>1.098612</td>\n",
              "      <td>-0.52153</td>\n",
              "      <td>-0.397341</td>\n",
              "      <td>-0.476948</td>\n",
              "      <td>-0.735689</td>\n",
              "      <td>-0.311836</td>\n",
              "      <td>0.165098</td>\n",
              "      <td>0.931043</td>\n",
              "      <td>-0.265992</td>\n",
              "      <td>-0.293297</td>\n",
              "      <td>-0.773820</td>\n",
              "      <td>-0.716533</td>\n",
              "      <td>0</td>\n",
              "    </tr>\n",
              "    <tr>\n",
              "      <th>8</th>\n",
              "      <td>Stu_00ea8f20a0942ae1385989b901bec86f</td>\n",
              "      <td>9</td>\n",
              "      <td>-0.320753</td>\n",
              "      <td>1.386294</td>\n",
              "      <td>0.02919</td>\n",
              "      <td>-0.712962</td>\n",
              "      <td>-0.260589</td>\n",
              "      <td>-0.726016</td>\n",
              "      <td>0.048682</td>\n",
              "      <td>-0.216002</td>\n",
              "      <td>0.217475</td>\n",
              "      <td>-0.265992</td>\n",
              "      <td>-0.084760</td>\n",
              "      <td>-0.862353</td>\n",
              "      <td>-0.237375</td>\n",
              "      <td>0</td>\n",
              "    </tr>\n",
              "    <tr>\n",
              "      <th>9</th>\n",
              "      <td>Stu_00ea8f20a0942ae1385989b901bec86f</td>\n",
              "      <td>10</td>\n",
              "      <td>-0.326665</td>\n",
              "      <td>1.386294</td>\n",
              "      <td>-0.52153</td>\n",
              "      <td>-0.667874</td>\n",
              "      <td>0.208188</td>\n",
              "      <td>-0.566720</td>\n",
              "      <td>-0.311345</td>\n",
              "      <td>0.190831</td>\n",
              "      <td>0.931043</td>\n",
              "      <td>-0.265992</td>\n",
              "      <td>0.457485</td>\n",
              "      <td>-0.021286</td>\n",
              "      <td>0.241784</td>\n",
              "      <td>0</td>\n",
              "    </tr>\n",
              "  </tbody>\n",
              "</table>\n",
              "</div>"
            ],
            "text/plain": [
              "                        ds_anon_user_id  module  ...    Npages  crammer\n",
              "0  Stu_00ea8f20a0942ae1385989b901bec86f       1  ...  1.319891        0\n",
              "1  Stu_00ea8f20a0942ae1385989b901bec86f       2  ...  1.080312        0\n",
              "2  Stu_00ea8f20a0942ae1385989b901bec86f       3  ...  1.200101        0\n",
              "3  Stu_00ea8f20a0942ae1385989b901bec86f       4  ... -1.555061        0\n",
              "4  Stu_00ea8f20a0942ae1385989b901bec86f       5  ...  0.241784        0\n",
              "5  Stu_00ea8f20a0942ae1385989b901bec86f       6  ...  0.481363        0\n",
              "6  Stu_00ea8f20a0942ae1385989b901bec86f       7  ... -0.716533        0\n",
              "7  Stu_00ea8f20a0942ae1385989b901bec86f       8  ... -0.716533        0\n",
              "8  Stu_00ea8f20a0942ae1385989b901bec86f       9  ... -0.237375        0\n",
              "9  Stu_00ea8f20a0942ae1385989b901bec86f      10  ...  0.241784        0\n",
              "\n",
              "[10 rows x 16 columns]"
            ]
          },
          "metadata": {
            "tags": []
          },
          "execution_count": 140
        }
      ]
    },
    {
      "cell_type": "code",
      "metadata": {
        "id": "gy0M-cuYFUi9"
      },
      "source": [
        "# set the n value\r\n",
        "n = 3\r\n",
        "DROPOUT = 0.1"
      ],
      "execution_count": null,
      "outputs": []
    },
    {
      "cell_type": "markdown",
      "metadata": {
        "id": "XBlS8lzA5AZd"
      },
      "source": [
        "# Transformer"
      ]
    },
    {
      "cell_type": "code",
      "metadata": {
        "id": "nIsbi8Js5RoE"
      },
      "source": [
        "# we don't consider the users whose number of completed module in less than (n+1)\r\n",
        "valid_user = []\r\n",
        "\r\n",
        "for user_id in df['ds_anon_user_id'].unique():\r\n",
        "  if len(df[df['ds_anon_user_id'] == user_id]) >= n+1:\r\n",
        "    valid_user.append(user_id)\r\n",
        "len(valid_user)\r\n",
        "df = df[df.ds_anon_user_id.isin(valid_user)]"
      ],
      "execution_count": null,
      "outputs": []
    },
    {
      "cell_type": "code",
      "metadata": {
        "id": "yZkuGzyI5By8"
      },
      "source": [
        "# group the data by user ids\r\n",
        "grouped_data = df[['ds_anon_user_id', 'module','quizGrade',  'nsessions','meantimeToQuiz',\r\n",
        "                   'ndays', 'npages','nactivities','timeInModule',\r\n",
        "                  'endToQuiz','meanSessionDiff', 'pretestGrade',\r\n",
        "                  'Nwords','Nactivities','Npages', \r\n",
        "                                    ]].groupby(['ds_anon_user_id']).apply(lambda r: (\r\n",
        "                r['module'],\r\n",
        "                r['nsessions'],\r\n",
        "                np.array([r['meantimeToQuiz'],r['ndays'], r['npages'], r['nactivities'],r['timeInModule'],\r\n",
        "                  r['endToQuiz'],r['meanSessionDiff'], r['pretestGrade'], r['nsessions'],r['quizGrade'],\r\n",
        "                  r['Nwords'],r['Nactivities'],r['Npages'] ]).transpose()\r\n",
        "                ))\r\n",
        "                           "
      ],
      "execution_count": null,
      "outputs": []
    },
    {
      "cell_type": "code",
      "metadata": {
        "id": "7qa1hE2D5Vm0"
      },
      "source": [
        "from torch.utils.data import Dataset, DataLoader\r\n",
        "class SPACE_DATASET(Dataset):\r\n",
        "    def __init__(self, data, maxlength = 12):\r\n",
        "        super(SPACE_DATASET, self).__init__()\r\n",
        "        self.maxlength = maxlength\r\n",
        "        self.data = data\r\n",
        "        self.users = list()\r\n",
        "        for user in data.index:\r\n",
        "            self.users.append(user)\r\n",
        "\r\n",
        "    def __len__(self):\r\n",
        "        return len(self.users)\r\n",
        "    \r\n",
        "    def __getitem__(self, ix):\r\n",
        "        user = self.users[ix]\r\n",
        "        user = user\r\n",
        "        module, labels, features = self.data[user]\r\n",
        "        #0s should be used as padding values\r\n",
        "        module = module.values \r\n",
        "        labels = labels.values\r\n",
        "\r\n",
        "        # one hot encoding for target module id\r\n",
        "        target_module_features = [0]*11\r\n",
        "        target_module_features[module[self.maxlength]-1] = 1\r\n",
        "        # append the other features of target module\r\n",
        "        target_module_features.extend(features[self.maxlength][-4:-1])\r\n",
        "\r\n",
        "        # get module ids and user interaction informations in the previous n modules\r\n",
        "        module = module[0:self.maxlength]\r\n",
        "        features = features[0:self.maxlength]\r\n",
        "\r\n",
        "        # labels is the value we want to predict: the number of session \r\n",
        "        # the user is going to spend on the (n+1)_th module\r\n",
        "        labels = np.array([labels[self.maxlength]])\r\n",
        "\r\n",
        "        # change the type of variables so that they can be served as input to encoder layers\r\n",
        "        module = torch.from_numpy(module).long()\r\n",
        "        labels = torch.from_numpy(labels).float()\r\n",
        "        features = torch.from_numpy(features).float()\r\n",
        "        target_module_features = torch.from_numpy(np.array([target_module_features])).float()\r\n",
        "        return module, labels,features, target_module_features"
      ],
      "execution_count": null,
      "outputs": []
    },
    {
      "cell_type": "code",
      "metadata": {
        "id": "Xtyurpw76eB6"
      },
      "source": [
        "import torch\r\n",
        "from sklearn.model_selection import train_test_split\r\n",
        "train_data, test_data = train_test_split(grouped_data, test_size=0.1)\r\n",
        "train_data, val_data = train_test_split(train_data, test_size=int(len(grouped_data)*0.1))\r\n",
        "train_data = SPACE_DATASET(train_data, n)\r\n",
        "val_data = SPACE_DATASET(val_data, n)\r\n",
        "test_data = SPACE_DATASET(test_data, n)\r\n",
        "train_dataloader = DataLoader(train_data, batch_size=64, shuffle=True)\r\n",
        "val_dataloader = DataLoader(val_data, batch_size=64, shuffle=True)\r\n",
        "test_dataloader = DataLoader(test_data, batch_size=64, shuffle=True)\r\n",
        "item = train_data.__getitem__(0)"
      ],
      "execution_count": null,
      "outputs": []
    },
    {
      "cell_type": "code",
      "metadata": {
        "colab": {
          "base_uri": "https://localhost:8080/"
        },
        "id": "b4RxKlS46fi3",
        "outputId": "2ea70e26-e233-4839-caac-b03689ca1fe7"
      },
      "source": [
        "# list of module ids\r\n",
        "# the value we want to predict\r\n",
        "# interaction features of the user with first n modules\r\n",
        "# target module features\r\n",
        "item"
      ],
      "execution_count": null,
      "outputs": [
        {
          "output_type": "execute_result",
          "data": {
            "text/plain": [
              "(tensor([1, 2, 3]),\n",
              " tensor([1.6094]),\n",
              " tensor([[-0.4409, -0.5215, -0.8933, -1.0900, -0.2048, -0.3114, -0.3849, -0.5671,\n",
              "           1.0986,  0.9310,  1.4704,  0.9968,  1.3199],\n",
              "         [-0.1261,  0.0292,  0.0535,  1.1818, -0.1467, -0.1551, -0.5773, -0.5671,\n",
              "           1.9459,  0.9310, -0.7940,  0.7755,  1.0803],\n",
              "         [-0.0168,  0.5799,  0.5495,  1.1457,  0.5668, -0.3114, -0.4225, -0.5671,\n",
              "           2.0794,  0.2175,  0.0025,  0.7755,  1.2001]]),\n",
              " tensor([[ 0.0000,  0.0000,  0.0000,  1.0000,  0.0000,  0.0000,  0.0000,  0.0000,\n",
              "           0.0000,  0.0000,  0.0000, -0.4961, -0.7714,  0.2886]]))"
            ]
          },
          "metadata": {
            "tags": []
          },
          "execution_count": 148
        }
      ]
    },
    {
      "cell_type": "code",
      "metadata": {
        "id": "U3j5eK5C9Ill"
      },
      "source": [
        "if torch.cuda.is_available():\r\n",
        "    device = torch.device(\"cuda\")\r\n",
        "else:\r\n",
        "    device = 'cpu'"
      ],
      "execution_count": null,
      "outputs": []
    },
    {
      "cell_type": "code",
      "metadata": {
        "id": "IW6vdd-r9WB-"
      },
      "source": [
        "import torch.nn as nn\r\n",
        "import torch.nn.functional as f\r\n",
        "from torch.nn import Embedding, Linear, MultiheadAttention, LayerNorm, Dropout\r\n",
        "\r\n",
        "class Encoder(nn.Module):\r\n",
        "    \r\n",
        "    def __init__(self, module_size=12, features_size=13,module_feature_size=14, \r\n",
        "                 maxlength=12, num_heads=8, embedding_size=64, dropout = DROPOUT\r\n",
        "                ):\r\n",
        "        \r\n",
        "        super(Encoder, self).__init__()\r\n",
        "        self.input_length = maxlength\r\n",
        "        # embedding layes and line layers\r\n",
        "        self.embedding_module = Embedding(num_embeddings = module_size, \r\n",
        "                                        embedding_dim = embedding_size\r\n",
        "                                       )\r\n",
        "\r\n",
        "        self.linear_features = Linear(features_size, embedding_size)\r\n",
        "        self.linear_module = Linear(module_feature_size, embedding_size)\r\n",
        "             \r\n",
        "        \r\n",
        "        self.embedding_pos =  Embedding(    num_embeddings = maxlength,\r\n",
        "                                            embedding_dim = embedding_size\r\n",
        "                                           )        \r\n",
        "\r\n",
        "        #attention\r\n",
        "        self.attention  = MultiheadAttention(embed_dim = embedding_size,\r\n",
        "                                             num_heads = num_heads,\r\n",
        "                                             dropout = dropout)\r\n",
        "        \r\n",
        "        self.linear1 = Linear(embedding_size, embedding_size)\r\n",
        "        self.linear2 = Linear(embedding_size, embedding_size)\r\n",
        "        self.norm1 = LayerNorm(embedding_size)\r\n",
        "        self.norm2 = LayerNorm(embedding_size)\r\n",
        "        self.dropout1 = Dropout(dropout)\r\n",
        "        \r\n",
        "    def __call__(self, modules, features,target_module_features,block=False):\r\n",
        "        \r\n",
        "        if torch.cuda.is_available():\r\n",
        "            device = torch.device(\"cuda\")\r\n",
        "        else:\r\n",
        "            device = 'cpu'\r\n",
        "\r\n",
        "        if block:\r\n",
        "\r\n",
        "            module_ids = self.embedding_module(modules)\r\n",
        "            features = self.linear_features(features)\r\n",
        "            module_features = self.linear_module(target_module_features)\r\n",
        "            \r\n",
        "            # summation\r\n",
        "            x = module_ids + features + module_features\r\n",
        "        else:\r\n",
        "            x = modules\r\n",
        "        pos = torch.arange(self.input_length, device=device).unsqueeze(0)\r\n",
        "        pos = self.embedding_pos(pos)\r\n",
        "        x = x + pos\r\n",
        "    \r\n",
        "        x = x.permute(1, 0, 2)\r\n",
        "        size = x.shape[0]\r\n",
        "        x_1 = x\r\n",
        "        # upper triangular attention mask (np.triu)\r\n",
        "        x, _ = self.attention(x, x, x, \r\n",
        "                           attn_mask = torch.from_numpy( np.triu(np.ones((size, size)), k=1).astype('bool')).to(device))\r\n",
        "        #skip connection\r\n",
        "        x += x_1\r\n",
        "        x =  x.permute(1, 0, 2) \r\n",
        "        x =  self.dropout1(x)\r\n",
        "        return x"
      ],
      "execution_count": null,
      "outputs": []
    },
    {
      "cell_type": "code",
      "metadata": {
        "id": "_n3AqLYC9ixd"
      },
      "source": [
        "module_id, label,features,target_module_features = item\r\n",
        "module_id= module_id.to(device)\r\n",
        "features = features.to(device)\r\n",
        "label = label.to(device)\r\n",
        "target_module_features = target_module_features.to(device)"
      ],
      "execution_count": null,
      "outputs": []
    },
    {
      "cell_type": "code",
      "metadata": {
        "colab": {
          "base_uri": "https://localhost:8080/"
        },
        "id": "s1cWFx7k9kq8",
        "outputId": "04698fba-a9e6-4675-a095-c35a0e7230fe"
      },
      "source": [
        "encoder = Encoder(maxlength=n).to(device)\r\n",
        "print(encoder(module_id, features, target_module_features,block=True).shape)"
      ],
      "execution_count": null,
      "outputs": [
        {
          "output_type": "stream",
          "text": [
            "torch.Size([1, 3, 64])\n"
          ],
          "name": "stdout"
        }
      ]
    },
    {
      "cell_type": "code",
      "metadata": {
        "id": "coINdgYM-weE"
      },
      "source": [
        "class SPACE(nn.Module):\r\n",
        "    def __init__(self, num_encoders=4, embedding_size=64, maxlength=12, dropout=DROPOUT):\r\n",
        "        super(SPACE, self).__init__()\r\n",
        "        self.maxlength = maxlength\r\n",
        "        self.embedding_size = embedding_size\r\n",
        "        # stack of encoders\r\n",
        "        self.encoders = nn.ModuleList([Encoder(embedding_size=embedding_size, maxlength=maxlength) for _ in range(num_encoders) ])\r\n",
        "        # feed forward neural network\r\n",
        "        self.linear1 = Linear(maxlength*embedding_size, int(maxlength*embedding_size/2))\r\n",
        "        self.linear3 = Linear(int(maxlength*embedding_size/2), 1)\r\n",
        "        self.dropout1 = Dropout(dropout)\r\n",
        "        \r\n",
        "    def __call__(self,module_id, features,target_module_features,batch=64):\r\n",
        "        for ix, encoder in enumerate(self.encoders):\r\n",
        "            if ix == 0:\r\n",
        "                x = encoder(module_id, features,target_module_features, block=True)\r\n",
        "            else:\r\n",
        "                x = encoder(x, _, _)\r\n",
        "        if batch>1:\r\n",
        "            x = x.reshape(batch, self.embedding_size*self.maxlength )\r\n",
        "            \r\n",
        "        else:\r\n",
        "            x = x.view(-1)\r\n",
        "        x = self.linear1(self.dropout1(F.relu(x)))\r\n",
        "        x =  self.linear3(x)\r\n",
        "        return x"
      ],
      "execution_count": null,
      "outputs": []
    },
    {
      "cell_type": "code",
      "metadata": {
        "colab": {
          "base_uri": "https://localhost:8080/"
        },
        "id": "ZQ5gpx1VAO63",
        "outputId": "4658de34-5117-4d91-93a7-aafa37fcf63f"
      },
      "source": [
        "# the model architecture\r\n",
        "space = SPACE(maxlength=n)\r\n",
        "space.to(device)"
      ],
      "execution_count": null,
      "outputs": [
        {
          "output_type": "execute_result",
          "data": {
            "text/plain": [
              "SPACE(\n",
              "  (encoders): ModuleList(\n",
              "    (0): Encoder(\n",
              "      (embedding_module): Embedding(12, 64)\n",
              "      (linear_features): Linear(in_features=13, out_features=64, bias=True)\n",
              "      (linear_module): Linear(in_features=14, out_features=64, bias=True)\n",
              "      (embedding_pos): Embedding(3, 64)\n",
              "      (attention): MultiheadAttention(\n",
              "        (out_proj): _LinearWithBias(in_features=64, out_features=64, bias=True)\n",
              "      )\n",
              "      (linear1): Linear(in_features=64, out_features=64, bias=True)\n",
              "      (linear2): Linear(in_features=64, out_features=64, bias=True)\n",
              "      (norm1): LayerNorm((64,), eps=1e-05, elementwise_affine=True)\n",
              "      (norm2): LayerNorm((64,), eps=1e-05, elementwise_affine=True)\n",
              "      (dropout1): Dropout(p=0.1, inplace=False)\n",
              "    )\n",
              "    (1): Encoder(\n",
              "      (embedding_module): Embedding(12, 64)\n",
              "      (linear_features): Linear(in_features=13, out_features=64, bias=True)\n",
              "      (linear_module): Linear(in_features=14, out_features=64, bias=True)\n",
              "      (embedding_pos): Embedding(3, 64)\n",
              "      (attention): MultiheadAttention(\n",
              "        (out_proj): _LinearWithBias(in_features=64, out_features=64, bias=True)\n",
              "      )\n",
              "      (linear1): Linear(in_features=64, out_features=64, bias=True)\n",
              "      (linear2): Linear(in_features=64, out_features=64, bias=True)\n",
              "      (norm1): LayerNorm((64,), eps=1e-05, elementwise_affine=True)\n",
              "      (norm2): LayerNorm((64,), eps=1e-05, elementwise_affine=True)\n",
              "      (dropout1): Dropout(p=0.1, inplace=False)\n",
              "    )\n",
              "    (2): Encoder(\n",
              "      (embedding_module): Embedding(12, 64)\n",
              "      (linear_features): Linear(in_features=13, out_features=64, bias=True)\n",
              "      (linear_module): Linear(in_features=14, out_features=64, bias=True)\n",
              "      (embedding_pos): Embedding(3, 64)\n",
              "      (attention): MultiheadAttention(\n",
              "        (out_proj): _LinearWithBias(in_features=64, out_features=64, bias=True)\n",
              "      )\n",
              "      (linear1): Linear(in_features=64, out_features=64, bias=True)\n",
              "      (linear2): Linear(in_features=64, out_features=64, bias=True)\n",
              "      (norm1): LayerNorm((64,), eps=1e-05, elementwise_affine=True)\n",
              "      (norm2): LayerNorm((64,), eps=1e-05, elementwise_affine=True)\n",
              "      (dropout1): Dropout(p=0.1, inplace=False)\n",
              "    )\n",
              "    (3): Encoder(\n",
              "      (embedding_module): Embedding(12, 64)\n",
              "      (linear_features): Linear(in_features=13, out_features=64, bias=True)\n",
              "      (linear_module): Linear(in_features=14, out_features=64, bias=True)\n",
              "      (embedding_pos): Embedding(3, 64)\n",
              "      (attention): MultiheadAttention(\n",
              "        (out_proj): _LinearWithBias(in_features=64, out_features=64, bias=True)\n",
              "      )\n",
              "      (linear1): Linear(in_features=64, out_features=64, bias=True)\n",
              "      (linear2): Linear(in_features=64, out_features=64, bias=True)\n",
              "      (norm1): LayerNorm((64,), eps=1e-05, elementwise_affine=True)\n",
              "      (norm2): LayerNorm((64,), eps=1e-05, elementwise_affine=True)\n",
              "      (dropout1): Dropout(p=0.1, inplace=False)\n",
              "    )\n",
              "  )\n",
              "  (linear1): Linear(in_features=192, out_features=96, bias=True)\n",
              "  (linear3): Linear(in_features=96, out_features=1, bias=True)\n",
              "  (dropout1): Dropout(p=0.1, inplace=False)\n",
              ")"
            ]
          },
          "metadata": {
            "tags": []
          },
          "execution_count": 154
        }
      ]
    },
    {
      "cell_type": "code",
      "metadata": {
        "colab": {
          "base_uri": "https://localhost:8080/"
        },
        "id": "tylxLy_ZAQiU",
        "outputId": "29ab5b0d-bbb4-4a4c-f6c2-bc4f0ca837b9"
      },
      "source": [
        "\r\n",
        "device = torch.device(\"cuda\" if torch.cuda.is_available() else \"cpu\")\r\n",
        "space = SPACE(maxlength=n, embedding_size=64)\r\n",
        "epochs = 50\r\n",
        "criterion = nn.MSELoss()\r\n",
        "optimizer = torch.optim.Adam(space.parameters(), lr=0.0001, betas=(0.9, 0.999), eps=1e-8)\r\n",
        "space.to(device)\r\n",
        "criterion.to(device)"
      ],
      "execution_count": null,
      "outputs": [
        {
          "output_type": "execute_result",
          "data": {
            "text/plain": [
              "MSELoss()"
            ]
          },
          "metadata": {
            "tags": []
          },
          "execution_count": 155
        }
      ]
    },
    {
      "cell_type": "code",
      "metadata": {
        "id": "Isya-M2UA15e"
      },
      "source": [
        "from tqdm import tqdm\r\n",
        "import torch.nn.functional as F\r\n",
        "from sklearn.metrics import r2_score, mean_absolute_error\r\n",
        "def train_epoch(model=space, train_iterator=train_dataloader, optim=optimizer, criterion=criterion, device=device):\r\n",
        "    model.train()\r\n",
        "\r\n",
        "    train_loss = []\r\n",
        "    num_corrects = 0\r\n",
        "    num_total = 0\r\n",
        "    labels = []\r\n",
        "    outs = []\r\n",
        "    tbar = tqdm(train_iterator)\r\n",
        "    for item in tbar:\r\n",
        "        module_ids = item[0].to(device).long()\r\n",
        "        label = item[1].to(device).float()\r\n",
        "        features = item[2].to(device).float()\r\n",
        "        target_module_features = item[3].to(device).float()\r\n",
        "\r\n",
        "        optim.zero_grad()\r\n",
        "        output = model(module_ids,  features,target_module_features,batch = module_ids.shape[0])\r\n",
        "        output = torch.reshape(output, label.shape)    \r\n",
        "        loss = criterion(output, label)\r\n",
        "        outs.extend(output.view(-1).data.cpu().numpy())\r\n",
        "        labels.extend(label.view(-1).data.cpu().numpy())\r\n",
        "        loss.backward()\r\n",
        "        optim.step()\r\n",
        "        train_loss.append(loss.item())\r\n",
        "        \r\n",
        "        tbar.set_description(\r\n",
        "            'train mse - {:.4f} train r2 - {:.4f} train mae - {:.4f}'.format(loss, \r\n",
        "                                                                             r2_score(label.view(-1).data.cpu().numpy(), output.view(-1).data.cpu().numpy())\r\n",
        "                                                                             ,mean_absolute_error(label.view(-1).data.cpu().numpy(), output.view(-1).data.cpu().numpy())))\r\n",
        "        \r\n",
        "    loss = np.mean(train_loss)\r\n",
        "    r2 = r2_score(labels, outs)\r\n",
        "    mae = mean_absolute_error(labels, outs)\r\n",
        "    return loss, r2, mae,labels, outs"
      ],
      "execution_count": null,
      "outputs": []
    },
    {
      "cell_type": "code",
      "metadata": {
        "id": "5vRRPj-XBcte"
      },
      "source": [
        "\r\n",
        "def val_epoch(model=space, val_iterator=val_dataloader,\r\n",
        "              criterion=criterion, device=device):\r\n",
        "    model.eval()\r\n",
        "\r\n",
        "    val_loss = []\r\n",
        "    labels = []\r\n",
        "    outs = []\r\n",
        "    tbar = tqdm(val_iterator)\r\n",
        "    for item in tbar:\r\n",
        "        module_ids = item[0].to(device).long()\r\n",
        "        label = item[1].to(device).float()\r\n",
        "        features = item[2].to(device).float()\r\n",
        "        target_module_features = item[3].to(device).float()\r\n",
        "        with torch.no_grad():\r\n",
        "            output = model(module_ids,features,target_module_features, batch = module_ids.shape[0])\r\n",
        "        output = torch.reshape(output, label.shape)\r\n",
        "        loss = criterion(output, label)\r\n",
        "        val_loss.append(loss.item())\r\n",
        "        outs.extend(output.view(-1).data.cpu().numpy())\r\n",
        "        labels.extend(label.view(-1).data.cpu().numpy())\r\n",
        "        tbar.set_description('valid mse - {:.4f} r2 - {:.4f} mae - {:.4f}'.format(loss, \r\n",
        "                                                                      r2_score(label.view(-1).data.cpu().numpy(), output.view(-1).data.cpu().numpy())\r\n",
        "                                                                       ,mean_absolute_error(label.view(-1).data.cpu().numpy(), output.view(-1).data.cpu().numpy())))\r\n",
        "                             \r\n",
        "    return np.average(val_loss), r2_score(labels, outs), mean_absolute_error(labels, outs),labels, outs"
      ],
      "execution_count": null,
      "outputs": []
    },
    {
      "cell_type": "code",
      "metadata": {
        "id": "3uiI5wVhBtxU",
        "colab": {
          "base_uri": "https://localhost:8080/"
        },
        "outputId": "939758aa-7e30-4fc8-e920-38a53907ec3f"
      },
      "source": [
        "for epoch in range(epochs):\r\n",
        "    train_loss, r2 ,mae, train_labels, train_outputs = train_epoch(model = space, device=device)\r\n",
        "    print(\"epoch - {} train_loss - {:.2f} r2 - {:.2f} mae - {:.2f}\".format(epoch, train_loss, r2,mae))\r\n",
        "    val_loss, r2, mae, valid_labels, val_outputs = val_epoch(model = space, device=device)\r\n",
        "    print(\"epoch - {} val_loss - {:.2f} r2 - {:.2f} mae - {:.2f}\".format(epoch, val_loss, r2,mae))\r\n",
        "\r\n",
        "    # we choose the model with best validation performance\r\n",
        "    if val_loss < bestmse:\r\n",
        "        bestmse = val_loss\r\n",
        "        bestmae = mae\r\n",
        "        bestr2 = r2\r\n",
        "        torch.save(space, 'best_model.h5')"
      ],
      "execution_count": null,
      "outputs": [
        {
          "output_type": "stream",
          "text": [
            "train mse - 0.7457 train r2 - -2.3923 train mae - 0.7237: 100%|██████████| 9/9 [00:00<00:00, 51.35it/s]\n",
            "valid mse - 0.1820 r2 - -1.7903 mae - 0.3660: 100%|██████████| 2/2 [00:00<00:00, 119.92it/s]\n",
            "train mse - 0.3394 train r2 - -0.3020 train mae - 0.4821:  56%|█████▌    | 5/9 [00:00<00:00, 48.86it/s]"
          ],
          "name": "stderr"
        },
        {
          "output_type": "stream",
          "text": [
            "epoch - 0 train_loss - 1.12 r2 - -3.24 mae - 0.87\n",
            "epoch - 0 val_loss - 0.37 r2 - -0.91 mae - 0.58\n"
          ],
          "name": "stdout"
        },
        {
          "output_type": "stream",
          "text": [
            "train mse - 0.2188 train r2 - 0.1543 train mae - 0.3643: 100%|██████████| 9/9 [00:00<00:00, 48.67it/s]\n",
            "valid mse - 0.0887 r2 - -0.3591 mae - 0.2240: 100%|██████████| 2/2 [00:00<00:00, 99.13it/s]\n",
            "train mse - 0.2037 train r2 - 0.1839 train mae - 0.3673:  67%|██████▋   | 6/9 [00:00<00:00, 53.92it/s]"
          ],
          "name": "stderr"
        },
        {
          "output_type": "stream",
          "text": [
            "epoch - 1 train_loss - 0.37 r2 - -0.41 mae - 0.50\n",
            "epoch - 1 val_loss - 0.19 r2 - 0.01 mae - 0.42\n"
          ],
          "name": "stdout"
        },
        {
          "output_type": "stream",
          "text": [
            "train mse - 0.2112 train r2 - -0.5570 train mae - 0.3813: 100%|██████████| 9/9 [00:00<00:00, 52.32it/s]\n",
            "valid mse - 0.3390 r2 - 0.2943 mae - 0.5815: 100%|██████████| 2/2 [00:00<00:00, 83.77it/s]\n",
            "train mse - 0.1818 train r2 - 0.2347 train mae - 0.3490:  56%|█████▌    | 5/9 [00:00<00:00, 48.61it/s] "
          ],
          "name": "stderr"
        },
        {
          "output_type": "stream",
          "text": [
            "epoch - 2 train_loss - 0.30 r2 - -0.13 mae - 0.44\n",
            "epoch - 2 val_loss - 0.27 r2 - 0.29 mae - 0.37\n"
          ],
          "name": "stdout"
        },
        {
          "output_type": "stream",
          "text": [
            "train mse - 0.2594 train r2 - -0.1280 train mae - 0.4215: 100%|██████████| 9/9 [00:00<00:00, 50.19it/s]\n",
            "valid mse - 0.5323 r2 - -3.4316 mae - 0.6566: 100%|██████████| 2/2 [00:00<00:00, 105.61it/s]\n",
            "train mse - 0.1761 train r2 - 0.1542 train mae - 0.3420: 100%|██████████| 9/9 [00:00<00:00, 55.03it/s]\n",
            "  0%|          | 0/2 [00:00<?, ?it/s]"
          ],
          "name": "stderr"
        },
        {
          "output_type": "stream",
          "text": [
            "epoch - 3 train_loss - 0.24 r2 - 0.10 mae - 0.39\n",
            "epoch - 3 val_loss - 0.41 r2 - -0.04 mae - 0.44\n",
            "epoch - 4 train_loss - 0.22 r2 - 0.18 mae - 0.38\n"
          ],
          "name": "stdout"
        },
        {
          "output_type": "stream",
          "text": [
            "valid mse - 0.1087 r2 - -7.7326 mae - 0.2884: 100%|██████████| 2/2 [00:00<00:00, 98.82it/s]\n",
            "train mse - 0.2778 train r2 - -0.3371 train mae - 0.4503: 100%|██████████| 9/9 [00:00<00:00, 50.58it/s]\n"
          ],
          "name": "stderr"
        },
        {
          "output_type": "stream",
          "text": [
            "epoch - 4 val_loss - 0.15 r2 - 0.32 mae - 0.35\n",
            "epoch - 5 train_loss - 0.23 r2 - 0.18 mae - 0.37\n"
          ],
          "name": "stdout"
        },
        {
          "output_type": "stream",
          "text": [
            "valid mse - 0.3716 r2 - 0.4886 mae - 0.5431: 100%|██████████| 2/2 [00:00<00:00, 104.85it/s]\n",
            "train mse - 0.2440 train r2 - -0.1083 train mae - 0.3800: 100%|██████████| 9/9 [00:00<00:00, 55.42it/s]\n",
            "valid mse - 0.3313 r2 - -12.0692 mae - 0.5756: 100%|██████████| 2/2 [00:00<00:00, 95.58it/s]\n",
            "  0%|          | 0/9 [00:00<?, ?it/s]"
          ],
          "name": "stderr"
        },
        {
          "output_type": "stream",
          "text": [
            "epoch - 5 val_loss - 0.29 r2 - 0.29 mae - 0.36\n",
            "epoch - 6 train_loss - 0.20 r2 - 0.27 mae - 0.35\n",
            "epoch - 6 val_loss - 0.27 r2 - 0.24 mae - 0.38\n"
          ],
          "name": "stdout"
        },
        {
          "output_type": "stream",
          "text": [
            "train mse - 0.1632 train r2 - 0.2804 train mae - 0.3152: 100%|██████████| 9/9 [00:00<00:00, 54.28it/s]\n",
            "valid mse - 0.0371 r2 - 0.0000 mae - 0.1788: 100%|██████████| 2/2 [00:00<00:00, 101.28it/s]\n",
            "train mse - 0.1896 train r2 - 0.2327 train mae - 0.3559: 100%|██████████| 9/9 [00:00<00:00, 53.24it/s]\n"
          ],
          "name": "stderr"
        },
        {
          "output_type": "stream",
          "text": [
            "epoch - 7 train_loss - 0.19 r2 - 0.29 mae - 0.35\n",
            "epoch - 7 val_loss - 0.16 r2 - 0.06 mae - 0.42\n",
            "epoch - 8 train_loss - 0.19 r2 - 0.29 mae - 0.35\n"
          ],
          "name": "stdout"
        },
        {
          "output_type": "stream",
          "text": [
            "valid mse - 0.4580 r2 - -6.0208 mae - 0.6693: 100%|██████████| 2/2 [00:00<00:00, 109.54it/s]\n",
            "train mse - 0.3155 train r2 - 0.0038 train mae - 0.4237: 100%|██████████| 9/9 [00:00<00:00, 55.53it/s]\n",
            "valid mse - 0.0624 r2 - 0.0000 mae - 0.2469: 100%|██████████| 2/2 [00:00<00:00, 99.68it/s]\n"
          ],
          "name": "stderr"
        },
        {
          "output_type": "stream",
          "text": [
            "epoch - 8 val_loss - 0.32 r2 - 0.35 mae - 0.35\n",
            "epoch - 9 train_loss - 0.19 r2 - 0.35 mae - 0.34\n",
            "epoch - 9 val_loss - 0.14 r2 - 0.30 mae - 0.36\n"
          ],
          "name": "stdout"
        },
        {
          "output_type": "stream",
          "text": [
            "train mse - 0.1571 train r2 - 0.4808 train mae - 0.3437: 100%|██████████| 9/9 [00:00<00:00, 48.00it/s]\n",
            "valid mse - 0.2598 r2 - 0.0000 mae - 0.3724: 100%|██████████| 2/2 [00:00<00:00, 100.11it/s]\n",
            "train mse - 0.2311 train r2 - 0.2471 train mae - 0.3963: 100%|██████████| 9/9 [00:00<00:00, 53.63it/s]\n",
            "  0%|          | 0/2 [00:00<?, ?it/s]"
          ],
          "name": "stderr"
        },
        {
          "output_type": "stream",
          "text": [
            "epoch - 10 train_loss - 0.18 r2 - 0.34 mae - 0.34\n",
            "epoch - 10 val_loss - 0.22 r2 - 0.36 mae - 0.35\n",
            "epoch - 11 train_loss - 0.20 r2 - 0.25 mae - 0.36\n"
          ],
          "name": "stdout"
        },
        {
          "output_type": "stream",
          "text": [
            "valid mse - 0.1081 r2 - -12.0100 mae - 0.2855: 100%|██████████| 2/2 [00:00<00:00, 97.91it/s]\n",
            "train mse - 0.2086 train r2 - 0.2598 train mae - 0.3635: 100%|██████████| 9/9 [00:00<00:00, 54.77it/s]\n",
            "valid mse - 0.1712 r2 - 0.0000 mae - 0.4136: 100%|██████████| 2/2 [00:00<00:00, 108.85it/s]\n",
            "  0%|          | 0/9 [00:00<?, ?it/s]"
          ],
          "name": "stderr"
        },
        {
          "output_type": "stream",
          "text": [
            "epoch - 11 val_loss - 0.17 r2 - 0.23 mae - 0.38\n",
            "epoch - 12 train_loss - 0.20 r2 - 0.28 mae - 0.36\n",
            "epoch - 12 val_loss - 0.23 r2 - 0.02 mae - 0.42\n"
          ],
          "name": "stdout"
        },
        {
          "output_type": "stream",
          "text": [
            "train mse - 0.1947 train r2 - 0.3142 train mae - 0.3517: 100%|██████████| 9/9 [00:00<00:00, 52.33it/s]\n",
            "valid mse - 0.0918 r2 - 0.2359 mae - 0.2494: 100%|██████████| 2/2 [00:00<00:00, 102.21it/s]\n",
            "train mse - 0.1429 train r2 - 0.5973 train mae - 0.3243: 100%|██████████| 9/9 [00:00<00:00, 52.75it/s]\n"
          ],
          "name": "stderr"
        },
        {
          "output_type": "stream",
          "text": [
            "epoch - 13 train_loss - 0.18 r2 - 0.32 mae - 0.33\n",
            "epoch - 13 val_loss - 0.15 r2 - 0.28 mae - 0.37\n"
          ],
          "name": "stdout"
        },
        {
          "output_type": "stream",
          "text": [
            "valid mse - 0.3168 r2 - -0.5094 mae - 0.5144: 100%|██████████| 2/2 [00:00<00:00, 86.58it/s]\n",
            "train mse - 0.1902 train r2 - 0.3099 train mae - 0.3594:  56%|█████▌    | 5/9 [00:00<00:00, 49.59it/s]"
          ],
          "name": "stderr"
        },
        {
          "output_type": "stream",
          "text": [
            "epoch - 14 train_loss - 0.17 r2 - 0.36 mae - 0.33\n",
            "epoch - 14 val_loss - 0.26 r2 - 0.30 mae - 0.36\n"
          ],
          "name": "stdout"
        },
        {
          "output_type": "stream",
          "text": [
            "train mse - 0.0879 train r2 - 0.5667 train mae - 0.2478: 100%|██████████| 9/9 [00:00<00:00, 50.68it/s]\n",
            "valid mse - 0.0208 r2 - 0.8270 mae - 0.1261: 100%|██████████| 2/2 [00:00<00:00, 102.15it/s]\n",
            "train mse - 0.1883 train r2 - 0.2527 train mae - 0.3284:  67%|██████▋   | 6/9 [00:00<00:00, 53.58it/s]"
          ],
          "name": "stderr"
        },
        {
          "output_type": "stream",
          "text": [
            "epoch - 15 train_loss - 0.16 r2 - 0.39 mae - 0.32\n",
            "epoch - 15 val_loss - 0.12 r2 - 0.29 mae - 0.37\n"
          ],
          "name": "stdout"
        },
        {
          "output_type": "stream",
          "text": [
            "train mse - 0.1397 train r2 - 0.4001 train mae - 0.3123: 100%|██████████| 9/9 [00:00<00:00, 53.68it/s]\n",
            "valid mse - 0.2111 r2 - 0.3005 mae - 0.4584: 100%|██████████| 2/2 [00:00<00:00, 102.88it/s]\n",
            "train mse - 0.1422 train r2 - 0.4322 train mae - 0.3081:  56%|█████▌    | 5/9 [00:00<00:00, 47.90it/s]"
          ],
          "name": "stderr"
        },
        {
          "output_type": "stream",
          "text": [
            "epoch - 16 train_loss - 0.16 r2 - 0.42 mae - 0.32\n",
            "epoch - 16 val_loss - 0.19 r2 - 0.39 mae - 0.34\n"
          ],
          "name": "stdout"
        },
        {
          "output_type": "stream",
          "text": [
            "train mse - 0.1995 train r2 - 0.3266 train mae - 0.3722: 100%|██████████| 9/9 [00:00<00:00, 48.93it/s]\n",
            "valid mse - 0.7061 r2 - -1.6642 mae - 0.7041: 100%|██████████| 2/2 [00:00<00:00, 103.57it/s]\n",
            "train mse - 0.0619 train r2 - 0.6308 train mae - 0.2062: 100%|██████████| 9/9 [00:00<00:00, 55.18it/s]\n",
            "  0%|          | 0/2 [00:00<?, ?it/s]"
          ],
          "name": "stderr"
        },
        {
          "output_type": "stream",
          "text": [
            "epoch - 17 train_loss - 0.17 r2 - 0.39 mae - 0.32\n",
            "epoch - 17 val_loss - 0.44 r2 - 0.34 mae - 0.35\n",
            "epoch - 18 train_loss - 0.15 r2 - 0.43 mae - 0.31\n"
          ],
          "name": "stdout"
        },
        {
          "output_type": "stream",
          "text": [
            "valid mse - 0.2515 r2 - 0.0000 mae - 0.4420: 100%|██████████| 2/2 [00:00<00:00, 99.40it/s]\n",
            "train mse - 0.1356 train r2 - 0.5052 train mae - 0.3210: 100%|██████████| 9/9 [00:00<00:00, 51.95it/s]\n",
            "valid mse - 0.0950 r2 - 0.2092 mae - 0.2735: 100%|██████████| 2/2 [00:00<00:00, 109.74it/s]\n"
          ],
          "name": "stderr"
        },
        {
          "output_type": "stream",
          "text": [
            "epoch - 18 val_loss - 0.21 r2 - 0.38 mae - 0.34\n",
            "epoch - 19 train_loss - 0.16 r2 - 0.38 mae - 0.32\n"
          ],
          "name": "stdout"
        },
        {
          "output_type": "stream",
          "text": [
            "train mse - 0.3759 train r2 - -0.1354 train mae - 0.5160: 100%|██████████| 9/9 [00:00<00:00, 51.33it/s]\n",
            "valid mse - 0.1918 r2 - 0.3074 mae - 0.3487:   0%|          | 0/2 [00:00<?, ?it/s]"
          ],
          "name": "stderr"
        },
        {
          "output_type": "stream",
          "text": [
            "epoch - 19 val_loss - 0.13 r2 - 0.41 mae - 0.33\n",
            "epoch - 20 train_loss - 0.18 r2 - 0.39 mae - 0.33\n"
          ],
          "name": "stdout"
        },
        {
          "output_type": "stream",
          "text": [
            "valid mse - 0.0791 r2 - 0.8912 mae - 0.2002: 100%|██████████| 2/2 [00:00<00:00, 94.99it/s]\n",
            "train mse - 0.1853 train r2 - 0.4912 train mae - 0.3280: 100%|██████████| 9/9 [00:00<00:00, 52.05it/s]\n",
            "valid mse - 0.3258 r2 - -2.5469 mae - 0.5613:   0%|          | 0/2 [00:00<?, ?it/s]"
          ],
          "name": "stderr"
        },
        {
          "output_type": "stream",
          "text": [
            "epoch - 20 val_loss - 0.14 r2 - 0.35 mae - 0.34\n",
            "epoch - 21 train_loss - 0.17 r2 - 0.39 mae - 0.32\n"
          ],
          "name": "stdout"
        },
        {
          "output_type": "stream",
          "text": [
            "valid mse - 0.3258 r2 - -2.5469 mae - 0.5613: 100%|██████████| 2/2 [00:00<00:00, 96.86it/s]\n",
            "train mse - 0.1376 train r2 - 0.5468 train mae - 0.2753: 100%|██████████| 9/9 [00:00<00:00, 48.48it/s]\n",
            "  0%|          | 0/2 [00:00<?, ?it/s]"
          ],
          "name": "stderr"
        },
        {
          "output_type": "stream",
          "text": [
            "epoch - 21 val_loss - 0.27 r2 - 0.28 mae - 0.37\n",
            "epoch - 22 train_loss - 0.15 r2 - 0.45 mae - 0.30\n"
          ],
          "name": "stdout"
        },
        {
          "output_type": "stream",
          "text": [
            "valid mse - 0.0287 r2 - 0.9268 mae - 0.1215: 100%|██████████| 2/2 [00:00<00:00, 84.43it/s]\n",
            "train mse - 0.1981 train r2 - 0.4413 train mae - 0.3682: 100%|██████████| 9/9 [00:00<00:00, 54.75it/s]\n",
            "valid mse - 0.0909 r2 - -1.2129 mae - 0.2385: 100%|██████████| 2/2 [00:00<00:00, 102.72it/s]\n",
            "  0%|          | 0/9 [00:00<?, ?it/s]"
          ],
          "name": "stderr"
        },
        {
          "output_type": "stream",
          "text": [
            "epoch - 22 val_loss - 0.13 r2 - 0.25 mae - 0.37\n",
            "epoch - 23 train_loss - 0.17 r2 - 0.39 mae - 0.32\n",
            "epoch - 23 val_loss - 0.15 r2 - 0.29 mae - 0.36\n"
          ],
          "name": "stdout"
        },
        {
          "output_type": "stream",
          "text": [
            "train mse - 0.2022 train r2 - 0.3303 train mae - 0.3681: 100%|██████████| 9/9 [00:00<00:00, 50.96it/s]\n",
            "valid mse - 0.2187 r2 - -48.0566 mae - 0.4574: 100%|██████████| 2/2 [00:00<00:00, 112.08it/s]\n",
            "train mse - 0.1623 train r2 - 0.2724 train mae - 0.3149:  56%|█████▌    | 5/9 [00:00<00:00, 47.01it/s]"
          ],
          "name": "stderr"
        },
        {
          "output_type": "stream",
          "text": [
            "epoch - 24 train_loss - 0.15 r2 - 0.44 mae - 0.31\n",
            "epoch - 24 val_loss - 0.21 r2 - 0.31 mae - 0.36\n"
          ],
          "name": "stdout"
        },
        {
          "output_type": "stream",
          "text": [
            "train mse - 0.1616 train r2 - 0.1515 train mae - 0.3212: 100%|██████████| 9/9 [00:00<00:00, 49.40it/s]\n",
            "valid mse - 0.1017 r2 - 0.7408 mae - 0.3178: 100%|██████████| 2/2 [00:00<00:00, 88.54it/s]\n",
            "train mse - 0.1686 train r2 - 0.4696 train mae - 0.3044: 100%|██████████| 9/9 [00:00<00:00, 55.78it/s]\n",
            "  0%|          | 0/2 [00:00<?, ?it/s]"
          ],
          "name": "stderr"
        },
        {
          "output_type": "stream",
          "text": [
            "epoch - 25 train_loss - 0.15 r2 - 0.44 mae - 0.31\n",
            "epoch - 25 val_loss - 0.19 r2 - 0.08 mae - 0.42\n",
            "epoch - 26 train_loss - 0.16 r2 - 0.42 mae - 0.32\n"
          ],
          "name": "stdout"
        },
        {
          "output_type": "stream",
          "text": [
            "valid mse - 0.3073 r2 - -1.5584 mae - 0.4240: 100%|██████████| 2/2 [00:00<00:00, 88.88it/s]\n",
            "train mse - 0.2114 train r2 - 0.2242 train mae - 0.3480: 100%|██████████| 9/9 [00:00<00:00, 52.53it/s]\n",
            "valid mse - 0.8878 r2 - -10.3392 mae - 0.8637: 100%|██████████| 2/2 [00:00<00:00, 104.70it/s]\n"
          ],
          "name": "stderr"
        },
        {
          "output_type": "stream",
          "text": [
            "epoch - 26 val_loss - 0.28 r2 - 0.13 mae - 0.41\n",
            "epoch - 27 train_loss - 0.17 r2 - 0.39 mae - 0.33\n"
          ],
          "name": "stdout"
        },
        {
          "output_type": "stream",
          "text": [
            "train mse - 0.1017 train r2 - 0.5364 train mae - 0.2591: 100%|██████████| 9/9 [00:00<00:00, 53.73it/s]\n",
            "valid mse - 0.1581 r2 - 0.3820 mae - 0.3177:   0%|          | 0/2 [00:00<?, ?it/s]"
          ],
          "name": "stderr"
        },
        {
          "output_type": "stream",
          "text": [
            "epoch - 27 val_loss - 0.53 r2 - 0.30 mae - 0.36\n",
            "epoch - 28 train_loss - 0.14 r2 - 0.45 mae - 0.31\n"
          ],
          "name": "stdout"
        },
        {
          "output_type": "stream",
          "text": [
            "valid mse - 0.1581 r2 - 0.3820 mae - 0.3177: 100%|██████████| 2/2 [00:00<00:00, 92.82it/s]\n",
            "train mse - 0.1845 train r2 - 0.0284 train mae - 0.3747: 100%|██████████| 9/9 [00:00<00:00, 54.09it/s]\n",
            "valid mse - 0.1937 r2 - 0.3179 mae - 0.3544:   0%|          | 0/2 [00:00<?, ?it/s]"
          ],
          "name": "stderr"
        },
        {
          "output_type": "stream",
          "text": [
            "epoch - 28 val_loss - 0.18 r2 - 0.32 mae - 0.36\n",
            "epoch - 29 train_loss - 0.15 r2 - 0.46 mae - 0.31\n"
          ],
          "name": "stdout"
        },
        {
          "output_type": "stream",
          "text": [
            "valid mse - 0.3280 r2 - 0.0000 mae - 0.5599: 100%|██████████| 2/2 [00:00<00:00, 82.13it/s]\n",
            "train mse - 0.1437 train r2 - 0.4798 train mae - 0.3016: 100%|██████████| 9/9 [00:00<00:00, 48.77it/s]\n",
            "  0%|          | 0/2 [00:00<?, ?it/s]"
          ],
          "name": "stderr"
        },
        {
          "output_type": "stream",
          "text": [
            "epoch - 29 val_loss - 0.26 r2 - 0.32 mae - 0.36\n",
            "epoch - 30 train_loss - 0.15 r2 - 0.44 mae - 0.32\n"
          ],
          "name": "stdout"
        },
        {
          "output_type": "stream",
          "text": [
            "valid mse - 0.0866 r2 - -2.0615 mae - 0.2916: 100%|██████████| 2/2 [00:00<00:00, 81.97it/s]\n",
            "train mse - 0.1563 train r2 - 0.4632 train mae - 0.3482: 100%|██████████| 9/9 [00:00<00:00, 53.59it/s]\n",
            "valid mse - 0.0132 r2 - 0.6799 mae - 0.1041: 100%|██████████| 2/2 [00:00<00:00, 103.89it/s]\n"
          ],
          "name": "stderr"
        },
        {
          "output_type": "stream",
          "text": [
            "epoch - 30 val_loss - 0.17 r2 - 0.14 mae - 0.40\n",
            "epoch - 31 train_loss - 0.16 r2 - 0.40 mae - 0.32\n",
            "epoch - 31 val_loss - 0.11 r2 - 0.29 mae - 0.36\n"
          ],
          "name": "stdout"
        },
        {
          "output_type": "stream",
          "text": [
            "train mse - 0.2531 train r2 - 0.1808 train mae - 0.4121: 100%|██████████| 9/9 [00:00<00:00, 50.34it/s]\n",
            "valid mse - 0.1746 r2 - 0.1683 mae - 0.4173: 100%|██████████| 2/2 [00:00<00:00, 84.57it/s]\n",
            "train mse - 0.1568 train r2 - 0.5196 train mae - 0.3114:  67%|██████▋   | 6/9 [00:00<00:00, 51.48it/s]"
          ],
          "name": "stderr"
        },
        {
          "output_type": "stream",
          "text": [
            "epoch - 32 train_loss - 0.16 r2 - 0.45 mae - 0.30\n",
            "epoch - 32 val_loss - 0.18 r2 - 0.34 mae - 0.35\n"
          ],
          "name": "stdout"
        },
        {
          "output_type": "stream",
          "text": [
            "train mse - 0.0946 train r2 - 0.2235 train mae - 0.2637: 100%|██████████| 9/9 [00:00<00:00, 50.70it/s]\n",
            "valid mse - 0.1466 r2 - -0.2207 mae - 0.2874: 100%|██████████| 2/2 [00:00<00:00, 101.99it/s]\n",
            "train mse - 0.1786 train r2 - 0.4051 train mae - 0.3447: 100%|██████████| 9/9 [00:00<00:00, 53.41it/s]\n",
            "  0%|          | 0/2 [00:00<?, ?it/s]"
          ],
          "name": "stderr"
        },
        {
          "output_type": "stream",
          "text": [
            "epoch - 33 train_loss - 0.14 r2 - 0.46 mae - 0.30\n",
            "epoch - 33 val_loss - 0.19 r2 - 0.22 mae - 0.38\n",
            "epoch - 34 train_loss - 0.15 r2 - 0.45 mae - 0.30\n"
          ],
          "name": "stdout"
        },
        {
          "output_type": "stream",
          "text": [
            "valid mse - 0.0275 r2 - -0.3268 mae - 0.1655: 100%|██████████| 2/2 [00:00<00:00, 57.88it/s]\n",
            "train mse - 0.1952 train r2 - 0.4466 train mae - 0.3761: 100%|██████████| 9/9 [00:00<00:00, 52.14it/s]\n",
            "valid mse - 0.0561 r2 - 0.7327 mae - 0.2364: 100%|██████████| 2/2 [00:00<00:00, 104.65it/s]"
          ],
          "name": "stderr"
        },
        {
          "output_type": "stream",
          "text": [
            "epoch - 34 val_loss - 0.11 r2 - 0.33 mae - 0.35\n",
            "epoch - 35 train_loss - 0.16 r2 - 0.42 mae - 0.31\n"
          ],
          "name": "stdout"
        },
        {
          "output_type": "stream",
          "text": [
            "\n",
            "train mse - 0.1189 train r2 - 0.5056 train mae - 0.2570: 100%|██████████| 9/9 [00:00<00:00, 51.96it/s]\n",
            "valid mse - 0.1965 r2 - 0.3294 mae - 0.3486:   0%|          | 0/2 [00:00<?, ?it/s]"
          ],
          "name": "stderr"
        },
        {
          "output_type": "stream",
          "text": [
            "epoch - 35 val_loss - 0.12 r2 - 0.36 mae - 0.35\n",
            "epoch - 36 train_loss - 0.15 r2 - 0.43 mae - 0.31\n"
          ],
          "name": "stdout"
        },
        {
          "output_type": "stream",
          "text": [
            "valid mse - 0.1158 r2 - 0.0360 mae - 0.3392: 100%|██████████| 2/2 [00:00<00:00, 84.32it/s]\n",
            "train mse - 0.1994 train r2 - 0.1880 train mae - 0.3698: 100%|██████████| 9/9 [00:00<00:00, 49.86it/s]\n",
            "  0%|          | 0/2 [00:00<?, ?it/s]"
          ],
          "name": "stderr"
        },
        {
          "output_type": "stream",
          "text": [
            "epoch - 36 val_loss - 0.16 r2 - 0.33 mae - 0.35\n",
            "epoch - 37 train_loss - 0.16 r2 - 0.41 mae - 0.32\n"
          ],
          "name": "stdout"
        },
        {
          "output_type": "stream",
          "text": [
            "valid mse - 0.0747 r2 - -0.8176 mae - 0.2154: 100%|██████████| 2/2 [00:00<00:00, 82.67it/s]\n",
            "train mse - 0.1080 train r2 - 0.5964 train mae - 0.2596: 100%|██████████| 9/9 [00:00<00:00, 51.04it/s]\n",
            "valid mse - 0.2399 r2 - 0.1843 mae - 0.3835:   0%|          | 0/2 [00:00<?, ?it/s]"
          ],
          "name": "stderr"
        },
        {
          "output_type": "stream",
          "text": [
            "epoch - 37 val_loss - 0.15 r2 - 0.21 mae - 0.39\n",
            "epoch - 38 train_loss - 0.14 r2 - 0.48 mae - 0.30\n"
          ],
          "name": "stdout"
        },
        {
          "output_type": "stream",
          "text": [
            "valid mse - 0.0940 r2 - 0.4763 mae - 0.2853: 100%|██████████| 2/2 [00:00<00:00, 90.64it/s]\n",
            "train mse - 0.0921 train r2 - -0.1060 train mae - 0.2638: 100%|██████████| 9/9 [00:00<00:00, 47.54it/s]\n",
            "  0%|          | 0/2 [00:00<?, ?it/s]"
          ],
          "name": "stderr"
        },
        {
          "output_type": "stream",
          "text": [
            "epoch - 38 val_loss - 0.17 r2 - 0.19 mae - 0.38\n",
            "epoch - 39 train_loss - 0.14 r2 - 0.48 mae - 0.30\n"
          ],
          "name": "stdout"
        },
        {
          "output_type": "stream",
          "text": [
            "valid mse - 0.5180 r2 - -73.2447 mae - 0.7149: 100%|██████████| 2/2 [00:00<00:00, 91.62it/s]\n",
            "train mse - 0.1418 train r2 - 0.4682 train mae - 0.3315: 100%|██████████| 9/9 [00:00<00:00, 50.90it/s]\n",
            "valid mse - 0.2239 r2 - 0.2390 mae - 0.3757:   0%|          | 0/2 [00:00<?, ?it/s]"
          ],
          "name": "stderr"
        },
        {
          "output_type": "stream",
          "text": [
            "epoch - 39 val_loss - 0.37 r2 - 0.24 mae - 0.37\n",
            "epoch - 40 train_loss - 0.14 r2 - 0.48 mae - 0.30\n"
          ],
          "name": "stdout"
        },
        {
          "output_type": "stream",
          "text": [
            "valid mse - 0.0144 r2 - 0.9197 mae - 0.1170: 100%|██████████| 2/2 [00:00<00:00, 78.56it/s]\n",
            "train mse - 0.0766 train r2 - 0.6347 train mae - 0.2299: 100%|██████████| 9/9 [00:00<00:00, 50.50it/s]\n",
            "valid mse - 0.2024 r2 - 0.2888 mae - 0.3576:   0%|          | 0/2 [00:00<?, ?it/s]"
          ],
          "name": "stderr"
        },
        {
          "output_type": "stream",
          "text": [
            "epoch - 40 val_loss - 0.12 r2 - 0.25 mae - 0.37\n",
            "epoch - 41 train_loss - 0.13 r2 - 0.49 mae - 0.30\n"
          ],
          "name": "stdout"
        },
        {
          "output_type": "stream",
          "text": [
            "valid mse - 0.1060 r2 - 0.5855 mae - 0.2824: 100%|██████████| 2/2 [00:00<00:00, 85.60it/s]\n",
            "train mse - 0.1255 train r2 - 0.5922 train mae - 0.2787: 100%|██████████| 9/9 [00:00<00:00, 49.74it/s]\n",
            "  0%|          | 0/2 [00:00<?, ?it/s]"
          ],
          "name": "stderr"
        },
        {
          "output_type": "stream",
          "text": [
            "epoch - 41 val_loss - 0.15 r2 - 0.31 mae - 0.36\n",
            "epoch - 42 train_loss - 0.14 r2 - 0.48 mae - 0.30\n"
          ],
          "name": "stdout"
        },
        {
          "output_type": "stream",
          "text": [
            "valid mse - 0.0777 r2 - -2.7546 mae - 0.2675: 100%|██████████| 2/2 [00:00<00:00, 89.84it/s]\n",
            "train mse - 0.1658 train r2 - 0.3073 train mae - 0.3126: 100%|██████████| 9/9 [00:00<00:00, 53.75it/s]\n",
            "valid mse - 0.0818 r2 - -2.9554 mae - 0.2416: 100%|██████████| 2/2 [00:00<00:00, 86.74it/s]\n"
          ],
          "name": "stderr"
        },
        {
          "output_type": "stream",
          "text": [
            "epoch - 42 val_loss - 0.13 r2 - 0.36 mae - 0.35\n",
            "epoch - 43 train_loss - 0.14 r2 - 0.49 mae - 0.30\n",
            "epoch - 43 val_loss - 0.14 r2 - 0.32 mae - 0.35\n"
          ],
          "name": "stdout"
        },
        {
          "output_type": "stream",
          "text": [
            "train mse - 0.0791 train r2 - 0.7853 train mae - 0.2321: 100%|██████████| 9/9 [00:00<00:00, 47.94it/s]\n",
            "valid mse - 0.0397 r2 - 0.8111 mae - 0.1985: 100%|██████████| 2/2 [00:00<00:00, 83.21it/s]\n",
            "train mse - 0.1254 train r2 - 0.5048 train mae - 0.2789:  67%|██████▋   | 6/9 [00:00<00:00, 54.23it/s]"
          ],
          "name": "stderr"
        },
        {
          "output_type": "stream",
          "text": [
            "epoch - 44 train_loss - 0.13 r2 - 0.49 mae - 0.30\n",
            "epoch - 44 val_loss - 0.12 r2 - 0.34 mae - 0.35\n"
          ],
          "name": "stdout"
        },
        {
          "output_type": "stream",
          "text": [
            "train mse - 0.0651 train r2 - 0.5556 train mae - 0.2067: 100%|██████████| 9/9 [00:00<00:00, 48.45it/s]\n",
            "valid mse - 0.0277 r2 - 0.0000 mae - 0.1259: 100%|██████████| 2/2 [00:00<00:00, 83.85it/s]\n",
            "train mse - 0.2117 train r2 - 0.2279 train mae - 0.3761:  56%|█████▌    | 5/9 [00:00<00:00, 49.03it/s]"
          ],
          "name": "stderr"
        },
        {
          "output_type": "stream",
          "text": [
            "epoch - 45 train_loss - 0.12 r2 - 0.52 mae - 0.29\n",
            "epoch - 45 val_loss - 0.12 r2 - 0.32 mae - 0.35\n"
          ],
          "name": "stdout"
        },
        {
          "output_type": "stream",
          "text": [
            "train mse - 0.1161 train r2 - 0.4537 train mae - 0.2708: 100%|██████████| 9/9 [00:00<00:00, 50.48it/s]\n",
            "valid mse - 0.0521 r2 - 0.9283 mae - 0.2282: 100%|██████████| 2/2 [00:00<00:00, 103.16it/s]\n",
            "train mse - 0.1444 train r2 - 0.4252 train mae - 0.3004:  67%|██████▋   | 6/9 [00:00<00:00, 49.70it/s]"
          ],
          "name": "stderr"
        },
        {
          "output_type": "stream",
          "text": [
            "epoch - 46 train_loss - 0.13 r2 - 0.50 mae - 0.30\n",
            "epoch - 46 val_loss - 0.12 r2 - 0.36 mae - 0.34\n"
          ],
          "name": "stdout"
        },
        {
          "output_type": "stream",
          "text": [
            "train mse - 0.1736 train r2 - 0.3959 train mae - 0.3559: 100%|██████████| 9/9 [00:00<00:00, 49.90it/s]\n",
            "valid mse - 0.2612 r2 - -5.3563 mae - 0.4682: 100%|██████████| 2/2 [00:00<00:00, 106.26it/s]\n",
            "train mse - 0.1336 train r2 - 0.4307 train mae - 0.3058:  67%|██████▋   | 6/9 [00:00<00:00, 51.53it/s]"
          ],
          "name": "stderr"
        },
        {
          "output_type": "stream",
          "text": [
            "epoch - 47 train_loss - 0.14 r2 - 0.48 mae - 0.29\n",
            "epoch - 47 val_loss - 0.22 r2 - 0.35 mae - 0.35\n"
          ],
          "name": "stdout"
        },
        {
          "output_type": "stream",
          "text": [
            "train mse - 0.1540 train r2 - 0.4778 train mae - 0.3077: 100%|██████████| 9/9 [00:00<00:00, 49.30it/s]\n",
            "valid mse - 0.2027 r2 - -0.6872 mae - 0.4215: 100%|██████████| 2/2 [00:00<00:00, 98.88it/s]\n",
            "train mse - 0.1094 train r2 - 0.5304 train mae - 0.2716:  56%|█████▌    | 5/9 [00:00<00:00, 43.47it/s]"
          ],
          "name": "stderr"
        },
        {
          "output_type": "stream",
          "text": [
            "epoch - 48 train_loss - 0.14 r2 - 0.47 mae - 0.30\n",
            "epoch - 48 val_loss - 0.20 r2 - 0.32 mae - 0.35\n"
          ],
          "name": "stdout"
        },
        {
          "output_type": "stream",
          "text": [
            "train mse - 0.1075 train r2 - 0.2505 train mae - 0.2663: 100%|██████████| 9/9 [00:00<00:00, 46.38it/s]\n",
            "valid mse - 0.1962 r2 - -0.6339 mae - 0.3196: 100%|██████████| 2/2 [00:00<00:00, 107.59it/s]"
          ],
          "name": "stderr"
        },
        {
          "output_type": "stream",
          "text": [
            "epoch - 49 train_loss - 0.14 r2 - 0.48 mae - 0.30\n",
            "epoch - 49 val_loss - 0.20 r2 - 0.30 mae - 0.36\n"
          ],
          "name": "stdout"
        },
        {
          "output_type": "stream",
          "text": [
            "\n"
          ],
          "name": "stderr"
        }
      ]
    },
    {
      "cell_type": "code",
      "metadata": {
        "id": "-ghP_TZqV2xj"
      },
      "source": [
        "best_model = torch.load('best_model.h5')"
      ],
      "execution_count": null,
      "outputs": []
    },
    {
      "cell_type": "markdown",
      "metadata": {
        "id": "TXinNIIPcoaN"
      },
      "source": [
        "# Result"
      ]
    },
    {
      "cell_type": "code",
      "metadata": {
        "colab": {
          "base_uri": "https://localhost:8080/"
        },
        "id": "qkg7hMYg-Sc9",
        "outputId": "93f5acf5-3a67-44a7-b680-7e2dc436182e"
      },
      "source": [
        "print(df['nsessions'].std())"
      ],
      "execution_count": null,
      "outputs": [
        {
          "output_type": "stream",
          "text": [
            "0.5631393221609047\n"
          ],
          "name": "stdout"
        }
      ]
    },
    {
      "cell_type": "code",
      "metadata": {
        "id": "cxFAFu-kWELS"
      },
      "source": [
        "train_loss, r2, mae, train_labels, train_outputs = val_epoch(model = best_model, val_iterator = train_dataloader, device=device)\r\n",
        "val_loss, r2,mae,val_labels, val_outputs = val_epoch(model = best_model, val_iterator = val_dataloader, device=device)\r\n",
        "test_loss, r2, mae, test_labels, test_outputs = val_epoch(model = best_model, val_iterator = test_dataloader, device=device)"
      ],
      "execution_count": null,
      "outputs": []
    },
    {
      "cell_type": "code",
      "metadata": {
        "id": "89n3bvK44iLY"
      },
      "source": [
        "test_exp_pred = np.expm1(test_outputs)\r\n",
        "test_exp_label = np.expm1(test_labels)\r\n",
        "test_rmse = np.sqrt(np.mean((test_exp_pred-test_exp_label)**2))\r\n",
        "\r\n",
        "train_exp_pred = np.expm1(train_outputs)\r\n",
        "train_exp_label = np.expm1(train_labels)\r\n",
        "train_rmse = np.sqrt(np.mean((train_exp_pred-train_exp_label)**2))\r\n",
        "\r\n",
        "val_exp_pred = np.expm1(val_outputs)\r\n",
        "val_exp_label = np.expm1(val_labels)\r\n",
        "val_rmse = np.sqrt(np.mean((val_exp_pred-val_exp_label)**2))\r\n",
        "print(\"The metric for \", n, \" are: \") \r\n",
        "print(\"TRAIN_RMSE:  %.3f\\n VAL_RMSE:  %.3f\\n TEST_RMSE: %.3f\" % (train_rmse, val_rmse, test_rmse))"
      ],
      "execution_count": null,
      "outputs": []
    },
    {
      "cell_type": "code",
      "metadata": {
        "colab": {
          "base_uri": "https://localhost:8080/",
          "height": 592
        },
        "id": "bGo0qvvUdjw4",
        "outputId": "fc144f95-7eb4-416c-e724-7f1150d235a8"
      },
      "source": [
        "import matplotlib.pyplot as plt\r\n",
        "fig = plt.figure(figsize = (10, 10))\r\n",
        "ax1 = fig.add_subplot(111)\r\n",
        "\r\n",
        "ax1.scatter(list(range(len(test_labels))), test_exp_label, s=10, c='b', marker=\"s\", label='labels')\r\n",
        "ax1.scatter(list(range(len(test_outputs))),test_exp_pred, s=10, c='r', marker=\"o\", label='predictions')\r\n",
        "plt.legend(loc='upper left')\r\n",
        "plt.show()"
      ],
      "execution_count": null,
      "outputs": [
        {
          "output_type": "display_data",
          "data": {
            "image/png": "[encoded data removed]",
            "text/plain": [
              "<Figure size 720x720 with 1 Axes>"
            ]
          },
          "metadata": {
            "tags": [],
            "needs_background": "light"
          }
        }
      ]
    },
    {
      "cell_type": "code",
      "metadata": {
        "id": "ERJtXa4XSE26"
      },
      "source": [
        ""
      ],
      "execution_count": null,
      "outputs": []
    }
  ]
}